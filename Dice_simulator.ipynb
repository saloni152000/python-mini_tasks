{
  "nbformat": 4,
  "nbformat_minor": 0,
  "metadata": {
    "colab": {
      "name": "Dice_simulator.ipynb",
      "provenance": [],
      "collapsed_sections": [],
      "authorship_tag": "ABX9TyOOg+XLFATsPxGslMswDtLv",
      "include_colab_link": true
    },
    "kernelspec": {
      "name": "python3",
      "display_name": "Python 3"
    }
  },
  "cells": [
    {
      "cell_type": "markdown",
      "metadata": {
        "id": "view-in-github",
        "colab_type": "text"
      },
      "source": [
        "<a href=\"https://colab.research.google.com/github/saloni152000/python-mini_tasks/blob/main/Dice_simulator.ipynb\" target=\"_parent\"><img src=\"https://colab.research.google.com/assets/colab-badge.svg\" alt=\"Open In Colab\"/></a>"
      ]
    },
    {
      "cell_type": "code",
      "metadata": {
        "colab": {
          "base_uri": "https://localhost:8080/"
        },
        "id": "WKhLP5ee8E_8",
        "outputId": "4b0897bb-b403-4685-d53a-c886bf1eab87"
      },
      "source": [
        "#importing random \r\n",
        "import random\r\n",
        "\r\n",
        "while(1):\r\n",
        "  no=(random.randint(1, 6))\r\n",
        "  if no == 1: \r\n",
        "        print(\"[     ]\") \r\n",
        "        print(\"[     ]\") \r\n",
        "        print(\"[  *  ]\") \r\n",
        "        print(\"[     ]\") \r\n",
        "        print(\"[     ]\") \r\n",
        "  if no == 2: \r\n",
        "        print(\"[     ]\") \r\n",
        "        print(\"[ *   ]\") \r\n",
        "        print(\"[     ]\") \r\n",
        "        print(\"[   * ]\") \r\n",
        "        print(\"[     ]\") \r\n",
        "  if no == 3: \r\n",
        "        print(\"[     ]\") \r\n",
        "        print(\"[     ]\") \r\n",
        "        print(\"[* * *]\") \r\n",
        "        print(\"[     ]\") \r\n",
        "        print(\"[     ]\") \r\n",
        "  if no == 4: \r\n",
        "        print(\"[     ]\") \r\n",
        "        print(\"[*   *]\") \r\n",
        "        print(\"[     ]\") \r\n",
        "        print(\"[*   *]\") \r\n",
        "        print(\"[     ]\") \r\n",
        "  if no == 5: \r\n",
        "        print(\"[     ]\") \r\n",
        "        print(\"[*   *]\") \r\n",
        "        print(\"[  *  ]\") \r\n",
        "        print(\"[*   *]\") \r\n",
        "        print(\"[     ]\") \r\n",
        "  if no == 6: \r\n",
        "        print(\"[     ]\") \r\n",
        "        print(\"[* * *]\") \r\n",
        "        print(\"[     ]\") \r\n",
        "        print(\"[* * *]\") \r\n",
        "        print(\"[     ]\") \r\n",
        "  roll=input(\"Want to roll again (Yes = Y / No = N)\")\r\n",
        "  if roll.lower()==\"y\":\r\n",
        "    continue\r\n",
        "  else :\r\n",
        "    print(\"Byeee... bye\")\r\n",
        "    break"
      ],
      "execution_count": 27,
      "outputs": [
        {
          "output_type": "stream",
          "text": [
            "[     ]\n",
            "[ *   ]\n",
            "[     ]\n",
            "[   * ]\n",
            "[     ]\n",
            "Want to roll again (Yes = Y / No = N)y\n",
            "[     ]\n",
            "[* * *]\n",
            "[     ]\n",
            "[* * *]\n",
            "[     ]\n",
            "Want to roll again (Yes = Y / No = N)y\n",
            "[     ]\n",
            "[*   *]\n",
            "[     ]\n",
            "[*   *]\n",
            "[     ]\n",
            "Want to roll again (Yes = Y / No = N)y\n",
            "[     ]\n",
            "[*   *]\n",
            "[     ]\n",
            "[*   *]\n",
            "[     ]\n",
            "Want to roll again (Yes = Y / No = N)n\n",
            "Byeee... bye\n"
          ],
          "name": "stdout"
        }
      ]
    }
  ]
}