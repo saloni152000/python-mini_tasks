{
  "nbformat": 4,
  "nbformat_minor": 0,
  "metadata": {
    "colab": {
      "name": "Track_No_Loc.ipynb",
      "provenance": [],
      "collapsed_sections": [],
      "authorship_tag": "ABX9TyO704ngPgoNv0VP2WzcHcCD",
      "include_colab_link": true
    },
    "kernelspec": {
      "name": "python3",
      "display_name": "Python 3"
    }
  },
  "cells": [
    {
      "cell_type": "markdown",
      "metadata": {
        "id": "view-in-github",
        "colab_type": "text"
      },
      "source": [
        "<a href=\"https://colab.research.google.com/github/saloni152000/python-mini_tasks/blob/main/Track_No_Loc.ipynb\" target=\"_parent\"><img src=\"https://colab.research.google.com/assets/colab-badge.svg\" alt=\"Open In Colab\"/></a>"
      ]
    },
    {
      "cell_type": "markdown",
      "metadata": {
        "id": "Y1pu9a1Ydb6C"
      },
      "source": [
        "Finding the country and service provider of a number using python"
      ]
    },
    {
      "cell_type": "code",
      "metadata": {
        "id": "0_2QH2FuUrIi"
      },
      "source": [
        "#installing package phonenumbers\r\n",
        "\r\n",
        "pip install phonenumbers"
      ],
      "execution_count": null,
      "outputs": []
    },
    {
      "cell_type": "code",
      "metadata": {
        "id": "Qckm9hDTVBv2"
      },
      "source": [
        "#Give the mobile number which you want to locate \r\n",
        "#storing the mobile number in the variable_name(number)\r\n",
        "number =\"+91 your Mobile number here\" "
      ],
      "execution_count": 8,
      "outputs": []
    },
    {
      "cell_type": "code",
      "metadata": {
        "id": "_7XcvjL-U5OA"
      },
      "source": [
        "#importing library\r\n",
        "import phonenumbers"
      ],
      "execution_count": null,
      "outputs": []
    },
    {
      "cell_type": "code",
      "metadata": {
        "id": "y_O3EHK0Y1pX"
      },
      "source": [
        "#importing geocoder from phonenumbers \r\n",
        "#which is the inbulit function in phonenumbers\r\n",
        "\r\n",
        "from phonenumbers import geocoder\r\n",
        "num=phonenumbers.parse(number,\"CH\")# CH - Country History\r\n",
        "print(geocoder.description_for_number(num,\"en\"))#en stands for English"
      ],
      "execution_count": null,
      "outputs": []
    },
    {
      "cell_type": "code",
      "metadata": {
        "id": "i1T_kOzFVPIw"
      },
      "source": [
        "#importing carrier \r\n",
        "\r\n",
        "from phonenumbers import carrier\r\n",
        "service_number=phonenumbers.parse(number,\"RO\")#Register Organization (i.e - it becomes to which organization or service provider (idea,jio etc))\r\n",
        "print(carrier.name_for_number(service_number,\"en\"))"
      ],
      "execution_count": null,
      "outputs": []
    }
  ]
}