{
  "nbformat": 4,
  "nbformat_minor": 0,
  "metadata": {
    "colab": {
      "name": "Track_No_Loc.ipynb",
      "provenance": [],
      "collapsed_sections": [],
      "authorship_tag": "ABX9TyO704ngPgoNv0VP2WzcHcCD",
      "include_colab_link": true
    },
    "kernelspec": {
      "name": "python3",
      "display_name": "Python 3"
    }
  },
  "cells": [
    {
      "cell_type": "markdown",
      "metadata": {
        "id": "view-in-github",
        "colab_type": "text"
      },
      "source": [
        "<a href=\"https://colab.research.google.com/github/saloni152000/python-mini_tasks/blob/main/Track_No_Loc.ipynb\" target=\"_parent\"><img src=\"https://colab.research.google.com/assets/colab-badge.svg\" alt=\"Open In Colab\"/></a>"
      ]
    },
    {
      "cell_type": "markdown",
      "metadata": {
        "id": "Y1pu9a1Ydb6C"
      },
      "source": [
        "Finding the country and service provider of a number using python"
      ]
    },
    {
      "cell_type": "code",
      "metadata": {
        "colab": {
          "base_uri": "https://localhost:8080/"
        },
        "id": "0_2QH2FuUrIi",
        "outputId": "404c816f-d45e-4194-da6a-6aa87b0650ef"
      },
      "source": [
        "#installing package phonenumbers\r\n",
        "\r\n",
        "pip install phonenumbers"
      ],
      "execution_count": 1,
      "outputs": [
        {
          "output_type": "stream",
          "text": [
            "Collecting phonenumbers\n",
            "\u001b[?25l  Downloading https://files.pythonhosted.org/packages/c1/ac/57ea656c1ff9a8b5dc9729d9b75f4d568c3598d4e4a7df31c1791ed9a095/phonenumbers-8.12.16-py2.py3-none-any.whl (2.6MB)\n",
            "\u001b[K     |████████████████████████████████| 2.6MB 7.9MB/s \n",
            "\u001b[?25hInstalling collected packages: phonenumbers\n",
            "Successfully installed phonenumbers-8.12.16\n"
          ],
          "name": "stdout"
        }
      ]
    },
    {
      "cell_type": "code",
      "metadata": {
        "id": "Qckm9hDTVBv2"
      },
      "source": [
        "#Give the mobile number which you want to locate \r\n",
        "#storing the mobile number in the variable_name(number)\r\n",
        "number =\"+91 your Mobile number here\" "
      ],
      "execution_count": 8,
      "outputs": []
    },
    {
      "cell_type": "code",
      "metadata": {
        "id": "_7XcvjL-U5OA"
      },
      "source": [
        "#importing library\r\n",
        "import phonenumbers"
      ],
      "execution_count": null,
      "outputs": []
    },
    {
      "cell_type": "code",
      "metadata": {
        "colab": {
          "base_uri": "https://localhost:8080/"
        },
        "id": "y_O3EHK0Y1pX",
        "outputId": "eb8900bd-bfea-4d71-ee57-b88a1c04505b"
      },
      "source": [
        "#importing geocoder from phonenumbers \r\n",
        "#which is the inbulit function in phonenumbers\r\n",
        "\r\n",
        "from phonenumbers import geocoder\r\n",
        "num=phonenumbers.parse(number,\"CH\")# CH - Country History\r\n",
        "print(geocoder.description_for_number(num,\"en\"))#en stands for English"
      ],
      "execution_count": 13,
      "outputs": [
        {
          "output_type": "stream",
          "text": [
            "India\n"
          ],
          "name": "stdout"
        }
      ]
    },
    {
      "cell_type": "code",
      "metadata": {
        "colab": {
          "base_uri": "https://localhost:8080/"
        },
        "id": "i1T_kOzFVPIw",
        "outputId": "76bc2d13-faa1-4c10-c3de-077002dd1e4a"
      },
      "source": [
        "#importing carrier \r\n",
        "\r\n",
        "from phonenumbers import carrier\r\n",
        "service_number=phonenumbers.parse(number,\"RO\")#Register Organization (i.e - it becomes to which organization or service provider (idea,jio etc))\r\n",
        "print(carrier.name_for_number(service_number,\"en\"))"
      ],
      "execution_count": 10,
      "outputs": [
        {
          "output_type": "stream",
          "text": [
            "BSNL MOBILE\n"
          ],
          "name": "stdout"
        }
      ]
    }
  ]
}